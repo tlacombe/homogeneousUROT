{
 "cells": [
  {
   "cell_type": "markdown",
   "metadata": {},
   "source": [
    "## Main ideas\n",
    "\n",
    "Non-regularized (un)balanced Optimal Transport (OT) is defined as the following optimization \n",
    "problem:\n",
    "\n",
    "$$ \\mathrm{OT}_{\\varphi}(\\alpha,\\beta) = \\min_\\pi \\iint c(x,y) \\mathrm{d}\\pi + D_\\varphi(\\pi_1|\\alpha) + D_\\varphi(\\pi_2|\\beta), $$\n",
    "\n",
    "where $c$ is the cost function of our problem (in the current implementation $c(x,y) = \\|x-y\\|^2$, other costs will be \n",
    "added in the future), and $D_\\varphi$ is a divergence to the marginal (e.g. the Kullback-Leibler divergence) which \n",
    "depends on the choice of an entropy function $\\varphi$. \n",
    "\n",
    "This problem is **homogeneous** with respect to the couple of input measures $(\\alpha,\\beta)$, that is\n",
    "\n",
    "$$ \\mathrm{OT}_{\\varphi}(\\lambda \\alpha, \\lambda \\beta) = \\lambda \\cdot \\mathrm{OT}_{\\varphi}(\\alpha,\\beta), $$\n",
    "\n",
    "and (probably more importantly) if $\\pi$ is a optimal for the couple $(\\alpha,\\beta)$, then $\\lambda \\pi$ is optimal for \n",
    "the couple $(\\lambda \\alpha,\\lambda \\beta)$. \n",
    "This is a suitable behavior: rescaling the measures (e.g. changing the unit of measurment) should not change the \n",
    "structure of the solutions.\n",
    "\n",
    "However, adding the celebrated entropic regularization term $+\\epsilon \\mathrm{KL}(\\pi | \\alpha \\otimes \\beta)$ \n",
    "may break homogeneity in some situations. \n",
    "Interestingly, when considering either\n",
    "- Balanced optimal transport ($D_\\varphi(\\mu | \\nu) = 0$ if $\\mu=\\nu$, $+\\infty$ otherwise),\n",
    "- KL divergence to the marginal ($D_\\varphi = \\mathrm{KL}$)\n",
    "\n",
    "the objective value $\\mathrm{OT}_{\\epsilon,\\varphi}$ is **not** homogeneous, but the optimal transport plans are \n",
    "homogeneous: the sturcture of the solutions is preserved. \n",
    "Furthermore, the so-called Sinkhorn divergence is also homogeneous. \n",
    "\n",
    "This does not hold for more general divergences though. For instance, using $D_\\varphi = \\mathrm{TV}$ the *Total Variation* \n",
    "yields inhomogeneity. \n",
    "This is even worse when considering spatially varying divergences as the one appearing in Optimal Transport with Boundary. \n",
    "\n",
    "## Bringing back homogeneity\n",
    "\n",
    "In this repository, we propose a model of regularized (unbalanced) OT that will be homogeneous. \n",
    "The key idea is to slighly modify the entropic regularization term. \n",
    "We propose two formulations, using: \n",
    "\n",
    "\\[ +\\frac{\\epsilon}{2} \\left( \\mathrm{KL}\\left(\\pi | \\frac{\\alpha}{m(\\alpha)} \\otimes \\beta \\right) + \\mathrm{KL}\\left(\\pi | \\alpha \\otimes \\frac{\\beta}{m(\\beta)} \\right) right) \\]\n",
    "\n",
    "or, somewhat more simply:\n",
    "\n",
    "\\[ +\\frac{\\epsilon} \\left( \\mathrm{KL}(\\pi | \\frac{\\alpha \\otimes \\beta}{\\sqrt{m(\\alpha)m(\\beta)}} \\right).\\]\n",
    "\n",
    "These models are referred to as *harmonic* and *geometric* homogeneizations as they respectively involve \n",
    "the harmonic and the geometric means of the masses $m(\\alpha),m(\\beta)$ in the computations. \n",
    "They correspond to setting `mode_homogeneity=\"harmonic\"` or `\"geometric\"` in the implementation. \n",
    "Setting `mode_homogeneity=\"std\"` retrieves the standard (non-homogeneous) Unbalanced Regularized OT model. \n",
    "\n",
    "These models are homogeneous by construction. \n",
    "\n",
    "**Note:** In the reference paper, only the harmonic regularization has been studied in depth. \n",
    "Actually, the two models are very similar, the harmonic one presents the advantage of yielding a Sinkhorn divergence \n",
    "that does not need the introduction of a mass bias term. \n",
    "\n",
    "## Other options available\n",
    "\n",
    "- Our implementation was motivated by applications in Topological Data Analysis (TDA). The metrics used in TDA can be \n",
    "cast as problems of *Optimal Transport with Boundary*, a model proposed by Figalli and Gigli. \n",
    "This model correspond to an Unbalanced OT problem involving a *spatially varying* marginal divergence. \n",
    "Adding the standard entropic regularization term (`mode_homogeneity=\"std\"`) to this problem yields highly inhomogeneous \n",
    "behavior, suggesting that using an homogeneous entropic penalty (e.g. `mode_homogeneity=\"harmonic\"`) is much more reliable.\n",
    "This mode is available through the option `mode_divergence=\"boundary\"`. \n",
    "For now, it is restricted to the case where the space is the open half plane $\\Omega = \\{(t_1,t_2),\\ t_1 < t_2\\} \\subset \\mathbb{R}^2$ \n",
    "and its boundary is thus the diagonal $\\partial \\Omega = \\{(t,t),\\ t \\in \\mathbb{R}\\}$ (the situation of interest in TDA). \n",
    "Other implementation will be provided in the future. \n",
    "- We propose an option `corrected_marginals`. \n",
    "Setting this parameter to `True` changes the marginal terms $D_\\varphi(\\pi_1 | \\alpha)$ and $D_\\varphi(\\pi_2 | \\beta)$ \n",
    "to $D_\\varphi\\left(\\pi_1 | \\alpha \\sqrt{\\frac{m(\\beta)}{m(\\alpha)}}\\right)$ and \n",
    "$D_\\varphi\\left(\\pi_2 | \\beta \\sqrt{\\frac{m(\\alpha)}{m(\\beta)}}\\right)$ \n",
    "respectively. \n",
    "The idea being that, in any case, if $\\alpha$ and $\\beta$ have different total masses, it is pointless to expect the \n",
    "marginals $\\pi_1,\\pi_2$ of $\\pi$ to equal $\\alpha$ and $\\beta$ ($\\pi_1$ and $\\pi_2$ have the same total masses). \n",
    "Thus, the standard marginals constraints are somewhat \"in contradiction\", and it may be interesting to replace them by \n",
    "more feasible constraints: the measures proposed above have the same total mass, namely $\\sqrt{m(\\alpha)m(\\beta)}$. \n",
    "\n",
    "**Note:** This approach has not been detailed in the reference paper. Actually, it is very similar to compute \n",
    "$\\sqrt{m(\\alpha) m(\\beta)} \\cdot \\mathrm{OT}_{\\epsilon,\\varphi}\\left(\\frac{\\alpha}{m(\\alpha)}, \\frac{\\beta}{m(\\beta)} \\right)$. "
   ]
  },
  {
   "cell_type": "markdown",
   "metadata": {},
   "source": [
    "### Run the quickstart"
   ]
  },
  {
   "cell_type": "code",
   "execution_count": 6,
   "metadata": {},
   "outputs": [],
   "source": [
    "import numpy as np\n",
    "from utils import sk_div, hurot\n",
    "\n",
    "np.random.seed(42)\n",
    "\n",
    "# Define the measures as weights + locations.\n",
    "n, m = 5, 7\n",
    "a = np.random.rand(n)\n",
    "b = np.random.rand(m)\n",
    "x = np.random.randn(n, 2)\n",
    "y = np.random.randn(m, 2) + np.array([.5,.5])\n",
    "\n",
    "# Set the parameter for the OT cost and the Sinkhorn divergence:\n",
    "mode_divergence = \"TV\"  # To use the total variation as the marginal divergence.\n",
    "mode_homogeneity = \"harmonic\"  # To use the harmonic \n",
    "eps = 1  # the entropic regularization parameter\n",
    "\n",
    "value = sk_div(x, y, a, b, \n",
    "               mode_divergence  = mode_divergence, \n",
    "               mode_homogeneity = mode_homogeneity,\n",
    "               corrected_marginals = False,\n",
    "               eps = eps, \n",
    "               verbose=0, init=\"unif\", \n",
    "               nb_step=1000, crit=0., stab=True)\n",
    "\n",
    "P, f, g, ot_value = hurot(x, y, a, b,\n",
    "                                mode_divergence=mode_divergence,\n",
    "                                mode_homogeneity=\"std\",\n",
    "                                corrected_marginals=False,\n",
    "                                eps=eps,\n",
    "                                verbose=0, init=\"unif\",\n",
    "                                nb_step=1000, crit=0., stab=True)"
   ]
  },
  {
   "cell_type": "code",
   "execution_count": 7,
   "metadata": {},
   "outputs": [
    {
     "name": "stdout",
     "output_type": "stream",
     "text": [
      "The sinkhorn divergence is:\n",
      " 2.7643828972575926\n"
     ]
    }
   ],
   "source": [
    "print(\"The sinkhorn divergence is:\\n\", value)"
   ]
  },
  {
   "cell_type": "code",
   "execution_count": 8,
   "metadata": {},
   "outputs": [
    {
     "data": {
      "text/plain": [
       "<matplotlib.collections.PathCollection at 0x7f6b855632e0>"
      ]
     },
     "execution_count": 8,
     "metadata": {},
     "output_type": "execute_result"
    },
    {
     "data": {
      "image/png": "[encoded data removed]",
      "text/plain": [
       "<Figure size 432x288 with 1 Axes>"
      ]
     },
     "metadata": {
      "needs_background": "light"
     },
     "output_type": "display_data"
    }
   ],
   "source": [
    "import matplotlib.pyplot as plt\n",
    "from utils import plot_transport_plan\n",
    "fig, ax = plt.subplots()\n",
    "plot_transport_plan(ax=ax, xs=x, xt=y, P=P)\n",
    "ax.scatter(x[:,0], x[:,1], marker='o', s=100*a, c='red')\n",
    "ax.scatter(y[:,0], y[:,1], marker='o', s=100*b, c='blue')"
   ]
  },
  {
   "cell_type": "code",
   "execution_count": null,
   "metadata": {},
   "outputs": [],
   "source": []
  }
 ],
 "metadata": {
  "kernelspec": {
   "display_name": "Python 3",
   "language": "python",
   "name": "python3"
  },
  "language_info": {
   "codemirror_mode": {
    "name": "ipython",
    "version": 3
   },
   "file_extension": ".py",
   "mimetype": "text/x-python",
   "name": "python",
   "nbconvert_exporter": "python",
   "pygments_lexer": "ipython3",
   "version": "3.8.2"
  }
 },
 "nbformat": 4,
 "nbformat_minor": 4
}
